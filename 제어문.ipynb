{
 "cells": [
  {
   "cell_type": "code",
   "execution_count": 2,
   "metadata": {},
   "outputs": [
    {
     "name": "stdout",
     "output_type": "stream",
     "text": [
      "X는 10입니다.\n"
     ]
    }
   ],
   "source": [
    "x = 10\n",
    "\n",
    "if x==10:\n",
    "    print (\"X는 10입니다.\")"
   ]
  },
  {
   "cell_type": "code",
   "execution_count": 5,
   "metadata": {},
   "outputs": [],
   "source": [
    "if x!=10:\n",
    "    print(\"X는 10이 아닙니다.\")"
   ]
  },
  {
   "cell_type": "code",
   "execution_count": 8,
   "metadata": {},
   "outputs": [
    {
     "name": "stdout",
     "output_type": "stream",
     "text": [
      "X는 3보다 크고 20 보다 작습니다.\n",
      "X는 3보다 큽니다.\n",
      "X는 10보다 크거나 같습니다.\n",
      "X는 20보다 작습니다.\n"
     ]
    }
   ],
   "source": [
    "if x>3 or x<20:\n",
    "    print(\"X는 3보다 크고 20 보다 작습니다.\")\n",
    "    \n",
    "    \n",
    "if x>3:\n",
    "    print(\"X는 3보다 큽니다.\")\n",
    "    if x>=10:\n",
    "        print(\"X는 10보다 크거나 같습니다.\")\n",
    "        \n",
    "    if x<20:\n",
    "        print(\"X는 20보다 작습니다.\")"
   ]
  },
  {
   "cell_type": "code",
   "execution_count": 11,
   "metadata": {},
   "outputs": [
    {
     "name": "stdout",
     "output_type": "stream",
     "text": [
      "X는 5보다 작거나 같습니다.\n"
     ]
    }
   ],
   "source": [
    "x = 3\n",
    "if x>5:\n",
    "    print(\"X는 5보다 큽니다.\")\n",
    "else:\n",
    "    print(\"X는 5보다 작거나 같습니다.\")"
   ]
  },
  {
   "cell_type": "code",
   "execution_count": 14,
   "metadata": {},
   "outputs": [
    {
     "name": "stdout",
     "output_type": "stream",
     "text": [
      "X는 2보다 큽니다.\n"
     ]
    }
   ],
   "source": [
    "if x>5:\n",
    "    print(\"X는 5보다 큽니다.\")\n",
    "elif x>2:\n",
    "    print(\"X는 2보다 큽니다.\")\n",
    "elif x>0:\n",
    "    print(\"X는 0보다 큽니다.\")\n",
    "else :\n",
    "    print (\"X는 음수입니다.\")"
   ]
  },
  {
   "cell_type": "code",
   "execution_count": 15,
   "metadata": {},
   "outputs": [
    {
     "ename": "SyntaxError",
     "evalue": "invalid syntax (<ipython-input-15-3decb4323fd3>, line 4)",
     "output_type": "error",
     "traceback": [
      "\u001b[1;36m  File \u001b[1;32m\"<ipython-input-15-3decb4323fd3>\"\u001b[1;36m, line \u001b[1;32m4\u001b[0m\n\u001b[1;33m    elif X\u001b[0m\n\u001b[1;37m          ^\u001b[0m\n\u001b[1;31mSyntaxError\u001b[0m\u001b[1;31m:\u001b[0m invalid syntax\n"
     ]
    }
   ],
   "source": [
    "X=10;\n",
    "if X>0:\n",
    "    print(\"X는 0보다 큽니다.\")\n",
    "elif X"
   ]
  },
  {
   "cell_type": "markdown",
   "metadata": {},
   "source": [
    "사용자로 점수를 3개 입력받아\n",
    "모든 점수가 65점보다 클 경우 합격 아닐경우 불합격을 출력하세요\n",
    "단, 0~100 이 아닌 숫자가 입력된경우 잘못된 “잘못된 점수가 입력되었습니다\" 를 출력하세요\n"
   ]
  },
  {
   "cell_type": "code",
   "execution_count": 11,
   "metadata": {},
   "outputs": [
    {
     "name": "stdout",
     "output_type": "stream",
     "text": [
      "1번점수 : 35\n",
      "2번점수 : 57\n",
      "3번점수 : 111\n",
      "잘못된 점수가 입력되었습니다.\n"
     ]
    }
   ],
   "source": [
    "score1 = int(input(\"1번점수 : \"))\n",
    "score2 = int(input(\"2번점수 : \"))\n",
    "score3 = int(input(\"3번점수 : \"))\n",
    "flag1 = True\n",
    "flag2 = True\n",
    "flag3 = True\n",
    "if score1>100 or score1<0:\n",
    "    flag1 = False\n",
    "if score2>100 or score1<0:\n",
    "    flag1 = False\n",
    "if score3>100 or score1<0:\n",
    "    flag1 = False\n",
    "\n",
    "if score1>65 and score2>65 and score3>65 and flag1 and flag2 and flag3:\n",
    "    print(\"합격\")\n",
    "elif not flag1 or falg2 or flag3:\n",
    "    print(\"잘못된 점수가 입력되었습니다.\")\n",
    "else:\n",
    "    print(\"불합격\")"
   ]
  },
  {
   "cell_type": "markdown",
   "metadata": {},
   "source": [
    "[홀수 짝수 판별기]\n",
    "사용자로부터 정수를 하나 입력받아  \n",
    "입력한 정수가 홀수인지 짝수인지 판별하여라.  \n",
    "(** 0은 짝수라 하자.)\n"
   ]
  },
  {
   "cell_type": "code",
   "execution_count": 12,
   "metadata": {},
   "outputs": [
    {
     "name": "stdout",
     "output_type": "stream",
     "text": [
      "정수를 입력해 주세요1\n",
      "입력하신 1는 홀수입니다.\n"
     ]
    }
   ],
   "source": [
    "input_value = int(input(\"정수를 입력해 주세요\"))\n",
    "if input_value%2==0:\n",
    "    print(\"입력하신 {}는 짝수입니다.\".format(input_value))\n",
    "else:\n",
    "    print(\"입력하신 {}는 홀수입니다.\".format(input_value))"
   ]
  },
  {
   "cell_type": "code",
   "execution_count": 20,
   "metadata": {},
   "outputs": [
    {
     "name": "stdout",
     "output_type": "stream",
     "text": [
      "정수 : 6\n",
      "안녕\n",
      "안녕\n",
      "안녕\n",
      "안녕\n",
      "안녕\n",
      "안녕\n"
     ]
    }
   ],
   "source": [
    "input_value = int(input(\"정수 : \"))\n",
    "for i in range(1,input_value+1):\n",
    "    print(\"안녕\")"
   ]
  },
  {
   "cell_type": "code",
   "execution_count": 22,
   "metadata": {},
   "outputs": [
    {
     "name": "stdout",
     "output_type": "stream",
     "text": [
      "정수 : 5\n",
      "*\n",
      "**\n",
      "***\n",
      "****\n",
      "*****\n"
     ]
    }
   ],
   "source": [
    "input_value = int(input(\"정수 : \"))\n",
    "star = \"*\"\n",
    "for i in range(1,input_value+1):\n",
    "    print(star*i)"
   ]
  },
  {
   "cell_type": "code",
   "execution_count": 7,
   "metadata": {},
   "outputs": [
    {
     "name": "stdout",
     "output_type": "stream",
     "text": [
      "정수 : 5\n",
      "[5, 4, 3, 2, 1, 0]\n",
      "*****\n",
      "****\n",
      "***\n",
      "**\n",
      "*\n",
      "\n"
     ]
    }
   ],
   "source": [
    "input_value = int(input(\"정수 : \"))\n",
    "star = \"*\"\n",
    "list_reverse = list(range(0,input_value+1))\n",
    "list_reverse = list_reverse[::-1]\n",
    "print(list_reverse)\n",
    "for i in list_reverse:\n",
    "    print(star*i)"
   ]
  }
 ],
 "metadata": {
  "kernelspec": {
   "display_name": "Python 3",
   "language": "python",
   "name": "python3"
  },
  "language_info": {
   "codemirror_mode": {
    "name": "ipython",
    "version": 3
   },
   "file_extension": ".py",
   "mimetype": "text/x-python",
   "name": "python",
   "nbconvert_exporter": "python",
   "pygments_lexer": "ipython3",
   "version": "3.8.3"
  }
 },
 "nbformat": 4,
 "nbformat_minor": 4
}
